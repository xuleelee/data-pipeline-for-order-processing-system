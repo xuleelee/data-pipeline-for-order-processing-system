{
 "cells": [
  {
   "cell_type": "markdown",
   "id": "300eb3d7",
   "metadata": {},
   "source": [
    "# pySpark ETL | Loading, Joining, Writing Out Data with AWS Glue\n",
    "This sample shows how to read, joins, and write out data files on S3 from Amazon SageMaker Notebook (Pyspark)"
   ]
  },
  {
   "cell_type": "markdown",
   "id": "2a3eefa5",
   "metadata": {},
   "source": [
    "## 1. Checking the tables and schemas"
   ]
  },
  {
   "cell_type": "markdown",
   "id": "e5049cb8",
   "metadata": {},
   "source": [
    "### prd_feature"
   ]
  },
  {
   "cell_type": "code",
   "execution_count": 8,
   "id": "b4b8bc0e",
   "metadata": {},
   "outputs": [
    {
     "data": {
      "application/vnd.jupyter.widget-view+json": {
       "model_id": "55c0700c22d64cfd84054743b8e7bf9b",
       "version_major": 2,
       "version_minor": 0
      },
      "text/plain": [
       "FloatProgress(value=0.0, bar_style='info', description='Progress:', layout=Layout(height='25px', width='50%'),…"
      ]
     },
     "metadata": {},
     "output_type": "display_data"
    },
    {
     "name": "stdout",
     "output_type": "stream",
     "text": [
      "+----------+------------------+-----------------+-----------+-------------+\n",
      "|product_id|prod_second_orders|prod_first_orders|prod_orders|prod_reorders|\n",
      "+----------+------------------+-----------------+-----------+-------------+\n",
      "|     39928|              7798|            14376|      50141|        35765|\n",
      "|      4421|              2366|             5529|      12230|         6701|\n",
      "|     28769|               590|             1687|       3224|         1537|\n",
      "|     12879|               237|              495|       1293|          798|\n",
      "|     33700|                59|              360|        456|           96|\n",
      "|     48015|               432|              837|       2665|         1828|\n",
      "|     47144|              5343|             9893|      34583|        24690|\n",
      "|     21299|                19|               75|        121|           46|\n",
      "|     14148|                37|              346|        402|           56|\n",
      "|     35851|               594|             1300|       3665|         2365|\n",
      "+----------+------------------+-----------------+-----------+-------------+\n",
      "only showing top 10 rows\n",
      "\n",
      "root\n",
      " |-- product_id: long (nullable = true)\n",
      " |-- prod_second_orders: integer (nullable = true)\n",
      " |-- prod_first_orders: integer (nullable = true)\n",
      " |-- prod_orders: integer (nullable = true)\n",
      " |-- prod_reorders: integer (nullable = true)\n",
      "\n",
      "Count:  49677"
     ]
    }
   ],
   "source": [
    "prd_feature = spark.read.parquet(\"s3://data-lake-bucket-imba/features/prd_feature_db\")\n",
    "prd_feature.show(10)\n",
    "prd_feature.printSchema()\n",
    "print(\"Count: \", prd_feature.count())"
   ]
  },
  {
   "cell_type": "markdown",
   "id": "83b0a9e3",
   "metadata": {},
   "source": [
    "### up_features"
   ]
  },
  {
   "cell_type": "code",
   "execution_count": 11,
   "id": "8987f619",
   "metadata": {},
   "outputs": [
    {
     "data": {
      "application/vnd.jupyter.widget-view+json": {
       "model_id": "878733bd5dc54f0d8804594e1aa7a7ab",
       "version_major": 2,
       "version_minor": 0
      },
      "text/plain": [
       "FloatProgress(value=0.0, bar_style='info', description='Progress:', layout=Layout(height='25px', width='50%'),…"
      ]
     },
     "metadata": {},
     "output_type": "display_data"
    },
    {
     "name": "stdout",
     "output_type": "stream",
     "text": [
      "+-------+----------+---------+-------------+--------------+------------------------+\n",
      "|user_id|product_id|up_orders|up_last_order|up_first_order|up_average_cart_position|\n",
      "+-------+----------+---------+-------------+--------------+------------------------+\n",
      "| 167303|     47717|        1|            4|             4|                     3.0|\n",
      "| 167315|     42342|        9|           17|             3|       17.77777777777778|\n",
      "| 167315|     34276|        2|            6|             1|                    13.0|\n",
      "| 167315|     25043|        1|            6|             6|                    15.0|\n",
      "| 167320|     37646|        2|            2|             1|                    18.5|\n",
      "| 167340|     24852|        6|           35|             3|       6.333333333333333|\n",
      "| 167350|     42265|        3|           42|            12|       7.666666666666667|\n",
      "| 167358|     11844|        2|           16|            15|                    12.5|\n",
      "| 167358|     24841|       11|           31|            10|      13.727272727272727|\n",
      "| 167358|     13176|       24|           39|             2|                   2.875|\n",
      "+-------+----------+---------+-------------+--------------+------------------------+\n",
      "only showing top 10 rows\n",
      "\n",
      "root\n",
      " |-- user_id: long (nullable = true)\n",
      " |-- product_id: long (nullable = true)\n",
      " |-- up_orders: integer (nullable = true)\n",
      " |-- up_last_order: integer (nullable = true)\n",
      " |-- up_first_order: integer (nullable = true)\n",
      " |-- up_average_cart_position: double (nullable = true)\n",
      "\n",
      "Count:  13307953"
     ]
    }
   ],
   "source": [
    "up_features = spark.read.parquet(\"s3://data-lake-bucket-imba/features/up_features_db\")\n",
    "up_features.show(10)\n",
    "up_features.printSchema()\n",
    "print(\"Count: \", up_features.count())"
   ]
  },
  {
   "cell_type": "markdown",
   "id": "27191a54",
   "metadata": {},
   "source": [
    "### user_features_1"
   ]
  },
  {
   "cell_type": "code",
   "execution_count": 12,
   "id": "1858df79",
   "metadata": {},
   "outputs": [
    {
     "data": {
      "application/vnd.jupyter.widget-view+json": {
       "model_id": "3519909abd4543f6930593678f3675bb",
       "version_major": 2,
       "version_minor": 0
      },
      "text/plain": [
       "FloatProgress(value=0.0, bar_style='info', description='Progress:', layout=Layout(height='25px', width='50%'),…"
      ]
     },
     "metadata": {},
     "output_type": "display_data"
    },
    {
     "name": "stdout",
     "output_type": "stream",
     "text": [
      "+-------+-----------+-----------+--------------------------+\n",
      "|user_id|user_orders|user_period|user_mean_days_since_prior|\n",
      "+-------+-----------+-----------+--------------------------+\n",
      "| 167495|         46|       5924|         5.294012511170688|\n",
      "| 167511|         12|        775|         8.516483516483516|\n",
      "| 167782|         15|       2496|          17.9568345323741|\n",
      "| 167815|         16|       1885|        16.830357142857142|\n",
      "| 168242|          8|        994|        10.923076923076923|\n",
      "| 168508|         48|       4890|         7.761904761904762|\n",
      "| 168654|          8|        887|        17.392156862745097|\n",
      "| 168764|         50|       6004|         7.277575757575757|\n",
      "| 168832|         31|       1718|         9.988372093023257|\n",
      "| 168854|         99|       3502|         4.981507823613087|\n",
      "+-------+-----------+-----------+--------------------------+\n",
      "only showing top 10 rows\n",
      "\n",
      "root\n",
      " |-- user_id: long (nullable = true)\n",
      " |-- user_orders: integer (nullable = true)\n",
      " |-- user_period: integer (nullable = true)\n",
      " |-- user_mean_days_since_prior: double (nullable = true)\n",
      "\n",
      "Count:  206209"
     ]
    }
   ],
   "source": [
    "user_features_1 = spark.read.parquet(\"s3://data-lake-bucket-imba/features/user_feature1_db\")\n",
    "user_features_1.show(10)\n",
    "user_features_1.printSchema()\n",
    "print(\"Count: \", user_features_1.count())"
   ]
  },
  {
   "cell_type": "markdown",
   "id": "7d66179b",
   "metadata": {},
   "source": [
    "### user_features_2"
   ]
  },
  {
   "cell_type": "code",
   "execution_count": 13,
   "id": "0f361716",
   "metadata": {},
   "outputs": [
    {
     "data": {
      "application/vnd.jupyter.widget-view+json": {
       "model_id": "61e99353fe6d4d97a77b3417beb0a8dd",
       "version_major": 2,
       "version_minor": 0
      },
      "text/plain": [
       "FloatProgress(value=0.0, bar_style='info', description='Progress:', layout=Layout(height='25px', width='50%'),…"
      ]
     },
     "metadata": {},
     "output_type": "display_data"
    },
    {
     "name": "stdout",
     "output_type": "stream",
     "text": [
      "+-------+-------------------+----------------------+-------------------+\n",
      "|user_id|user_total_products|user_distinct_products| user_reorder_ratio|\n",
      "+-------+-------------------+----------------------+-------------------+\n",
      "| 144182|                146|                   103| 0.3049645390070922|\n",
      "| 144242|               1486|                   313| 0.8012295081967213|\n",
      "| 144749|                 66|                    61|0.12195121951219512|\n",
      "| 145000|                910|                   218| 0.7899543378995434|\n",
      "| 145751|                155|                    69|  0.581081081081081|\n",
      "| 145773|                370|                    99| 0.7465564738292011|\n",
      "| 143035|                 51|                    28| 0.5348837209302325|\n",
      "| 143598|                112|                    81|0.34444444444444444|\n",
      "|  78081|                720|                   194| 0.7387640449438202|\n",
      "|  78800|                518|                   196| 0.6264591439688716|\n",
      "+-------+-------------------+----------------------+-------------------+\n",
      "only showing top 10 rows\n",
      "\n",
      "root\n",
      " |-- user_id: long (nullable = true)\n",
      " |-- user_total_products: integer (nullable = true)\n",
      " |-- user_distinct_products: integer (nullable = true)\n",
      " |-- user_reorder_ratio: double (nullable = true)\n",
      "\n",
      "Count:  206209"
     ]
    }
   ],
   "source": [
    "user_features_2 = spark.read.parquet(\"s3://data-lake-bucket-imba/features/user_features_2_db\")\n",
    "user_features_2.show(10)\n",
    "user_features_2.printSchema()\n",
    "print(\"Count: \", user_features_2.count())"
   ]
  },
  {
   "cell_type": "markdown",
   "id": "0dc1b0f0",
   "metadata": {},
   "source": [
    "## 2. Join Tables \n",
    "\n",
    "* First, join `up_features` and `prd_feature` on \"product_id\"\n",
    "* Next, join the result with `user_features_1` on \"user_id\"\n",
    "* Then, join the result with `user_features_2` on \"user_id\""
   ]
  },
  {
   "cell_type": "code",
   "execution_count": 44,
   "id": "2acb7309",
   "metadata": {},
   "outputs": [
    {
     "data": {
      "application/vnd.jupyter.widget-view+json": {
       "model_id": "053245d5445f49a4a94fc6016f1d06c8",
       "version_major": 2,
       "version_minor": 0
      },
      "text/plain": [
       "FloatProgress(value=0.0, bar_style='info', description='Progress:', layout=Layout(height='25px', width='50%'),…"
      ]
     },
     "metadata": {},
     "output_type": "display_data"
    },
    {
     "name": "stdout",
     "output_type": "stream",
     "text": [
      "+-------+----------+---------+-------------+--------------+------------------------+------------------+-----------------+-----------+-------------+-----------+-----------+--------------------------+-------------------+----------------------+-------------------+\n",
      "|user_id|product_id|up_orders|up_last_order|up_first_order|up_average_cart_position|prod_second_orders|prod_first_orders|prod_orders|prod_reorders|user_orders|user_period|user_mean_days_since_prior|user_total_products|user_distinct_products| user_reorder_ratio|\n",
      "+-------+----------+---------+-------------+--------------+------------------------+------------------+-----------------+-----------+-------------+-----------+-----------+--------------------------+-------------------+----------------------+-------------------+\n",
      "| 167303|     47717|        1|            4|             4|                     3.0|               732|             1787|       4604|         2817|          7|        297|         6.906976744186046|                 48|                    29| 0.4418604651162791|\n",
      "| 167315|     42342|        9|           17|             3|       17.77777777777778|              3004|             6989|      17332|        10343|         17|       7574|         15.23943661971831|                512|                   145|  0.738430583501006|\n",
      "| 167315|     34276|        2|            6|             1|                    13.0|               191|              458|       1087|          629|         17|       7574|         15.23943661971831|                512|                   145|  0.738430583501006|\n",
      "| 167315|     25043|        1|            6|             6|                    15.0|               860|             2227|       4927|         2700|         17|       7574|         15.23943661971831|                512|                   145|  0.738430583501006|\n",
      "| 167320|     37646|        2|            2|             1|                    18.5|             10979|            19440|      72846|        53406|          3|       1350|                      30.0|                 67|                    56|0.24444444444444444|\n",
      "| 167340|     24852|        6|           35|             3|       6.333333333333333|             55166|            73956|     472565|       398609|         44|       2486|         8.150819672131147|                309|                   143| 0.5442622950819672|\n",
      "| 167350|     42265|        3|           42|            12|       7.666666666666667|             14093|            26424|      76896|        50472|         45|       4095|         7.286476868327402|                582|                   224| 0.6370106761565836|\n",
      "| 167358|     11844|        2|           16|            15|                    12.5|               295|              648|       1743|         1095|         39|       9754|        10.267368421052632|                960|                   337| 0.6557894736842105|\n",
      "| 167358|     24841|       11|           31|            10|      13.727272727272727|              1854|             3279|      10978|         7699|         39|       9754|        10.267368421052632|                960|                   337| 0.6557894736842105|\n",
      "| 167358|     13176|       24|           39|             2|                   2.875|             45231|            63537|     379450|       315913|         39|       9754|        10.267368421052632|                960|                   337| 0.6557894736842105|\n",
      "+-------+----------+---------+-------------+--------------+------------------------+------------------+-----------------+-----------+-------------+-----------+-----------+--------------------------+-------------------+----------------------+-------------------+\n",
      "only showing top 10 rows\n",
      "\n",
      "root\n",
      " |-- user_id: long (nullable = true)\n",
      " |-- product_id: long (nullable = true)\n",
      " |-- up_orders: integer (nullable = true)\n",
      " |-- up_last_order: integer (nullable = true)\n",
      " |-- up_first_order: integer (nullable = true)\n",
      " |-- up_average_cart_position: double (nullable = true)\n",
      " |-- prod_second_orders: integer (nullable = true)\n",
      " |-- prod_first_orders: integer (nullable = true)\n",
      " |-- prod_orders: integer (nullable = true)\n",
      " |-- prod_reorders: integer (nullable = true)\n",
      " |-- user_orders: integer (nullable = true)\n",
      " |-- user_period: integer (nullable = true)\n",
      " |-- user_mean_days_since_prior: double (nullable = true)\n",
      " |-- user_total_products: integer (nullable = true)\n",
      " |-- user_distinct_products: integer (nullable = true)\n",
      " |-- user_reorder_ratio: double (nullable = true)\n",
      "\n",
      "Count:  13307953"
     ]
    }
   ],
   "source": [
    "joinDF = ((up_features.join(prd_feature, \"product_id\")).join(user_features_1, \"user_id\")).join(user_features_2, \"user_id\")\n",
    "joinDF.show(10)\n",
    "joinDF.printSchema()\n",
    "print(\"Count: \", joinDF.count())"
   ]
  },
  {
   "cell_type": "markdown",
   "id": "e8664453",
   "metadata": {},
   "source": [
    "## 3.  Writing to S3 Bucket\n",
    "Use `repartition()` to convert the join result into one dataframe, and write it out to S3."
   ]
  },
  {
   "cell_type": "code",
   "execution_count": 55,
   "id": "a083e3ed",
   "metadata": {},
   "outputs": [
    {
     "data": {
      "application/vnd.jupyter.widget-view+json": {
       "model_id": "c3fbd06365054da49760c208e40ff374",
       "version_major": 2,
       "version_minor": 0
      },
      "text/plain": [
       "FloatProgress(value=0.0, bar_style='info', description='Progress:', layout=Layout(height='25px', width='50%'),…"
      ]
     },
     "metadata": {},
     "output_type": "display_data"
    }
   ],
   "source": [
    "singleDF = joinDF.repartition(1)\n",
    "singleDF.write.csv(\"s3://data-lake-bucket-imba/features/finaltable\", header = \"true\")"
   ]
  }
 ],
 "metadata": {
  "kernelspec": {
   "display_name": "Sparkmagic (PySpark)",
   "language": "python",
   "name": "pysparkkernel"
  },
  "language_info": {
   "codemirror_mode": {
    "name": "python",
    "version": 3
   },
   "file_extension": ".py",
   "mimetype": "text/x-python",
   "name": "pyspark",
   "pygments_lexer": "python3"
  }
 },
 "nbformat": 4,
 "nbformat_minor": 5
}
